{
 "cells": [
  {
   "cell_type": "markdown",
   "id": "9f845a44",
   "metadata": {},
   "source": [
    "# Marketing funnel analysis and optimization"
   ]
  },
  {
   "cell_type": "markdown",
   "id": "4149a9af",
   "metadata": {},
   "source": [
    "### 1st part: Promotional spreadsheet"
   ]
  },
  {
   "cell_type": "code",
   "execution_count": null,
   "id": "fe00fef4",
   "metadata": {},
   "outputs": [
    {
     "name": "stdout",
     "output_type": "stream",
     "text": [
      "desp_var = 300.0\n",
      "inv_campanha = 430.3\n",
      "pg_agencia = 2250.0\n",
      "Número de potenciais compradores da planilha:  21.515\n",
      "Lucro planilha:  814.61\n"
     ]
    }
   ],
   "source": [
    "import pulp as pl\n",
    "import ipywidgets as widgets\n",
    "\n",
    "planilha = pl.LpProblem('Custo_planilha', pl.LpMaximize)\n",
    "\n",
    "# Variáveis 1a parte funil\n",
    "total_mkt_plan = 3000 # input usuário\n",
    "mensalidade_agencia = 4500  # input usuário\n",
    "min_desp_var = 300 # input usuário\n",
    "valor_planilha = 197    # input usuário\n",
    "tx_plataforma = 0.1     # input usuário\n",
    "\n",
    "despesa_plataforma = tx_plataforma * valor_planilha\n",
    "pag_agencia =  mensalidade_agencia / 2  # mensalidade da agência diluida pelos membros do funil\n",
    "inv_campanha = pl.LpVariable('inv_campanha', lowBound=0, cat='Continuous')  #d1\n",
    "pg_agencia = pl.LpVariable('pg_agencia', lowBound=0, cat='Continuous')  #d2\n",
    "desp_var = pl.LpVariable('desp_var', lowBound=0, cat='Continuous')  #d3\n",
    "#taxa_plat = pl.LpVariable('taxa_plat', lowBound=0, cat='Continuous')  #d4\n",
    "\n",
    "planilha += inv_campanha    # função objetivo (maximizar)\n",
    "\n",
    "# Constraints\n",
    "planilha += inv_campanha + pg_agencia + desp_var <= total_mkt_plan - despesa_plataforma, 'Budget_constraint'\n",
    "planilha += desp_var >= min_desp_var, 'Desp_var_min'\n",
    "planilha += pg_agencia >= pag_agencia, 'Pg_agencia_min'\n",
    "\n",
    "planilha.solve()\n",
    "\n",
    "if pl.LpStatus[planilha.status] == 'Optimal':\n",
    "    for variable in planilha.variables():\n",
    "        print(\"{} = {}\".format(variable.name, variable.varValue))\n",
    "\n",
    "# Potenciais compradores da planilha\n",
    "cac_plan = 20    # custo de aquisição de clientes em reais (input usuário)\n",
    "comp1 = inv_campanha.varValue / cac_plan\n",
    "print('Número de potenciais compradores da planilha: ', str(comp1))\n",
    "\n",
    "# Lucro na planilha\n",
    "lucro_plan = comp1*(valor_planilha - despesa_plataforma) - total_mkt_plan\n",
    "print('Lucro planilha: ', round(lucro_plan, 2))"
   ]
  },
  {
   "cell_type": "markdown",
   "id": "eeb3545f",
   "metadata": {},
   "source": [
    "### 2nd part: In-person event"
   ]
  },
  {
   "cell_type": "code",
   "execution_count": null,
   "id": "8bd47267",
   "metadata": {},
   "outputs": [
    {
     "name": "stdout",
     "output_type": "stream",
     "text": [
      "Status da solução:  Optimal\n",
      "buffet = 500.0\n",
      "instrumentacao = 1000.0\n",
      "inv_camp_evento = 1000.0\n",
      "local = 7000.0\n",
      "pub_evento = 1000.0\n",
      "total_desp = 12975.907\n",
      "\n",
      "Compradores evento:  53.22725\n",
      "Compradores oriundos de campanha:  50.0\n",
      "Compradores oriundos da planilha:  3.22725\n",
      "Total compras ingresso:  37259.07\n",
      "Lucro evento:  24283.17\n"
     ]
    }
   ],
   "source": [
    "# Minimize total cost\n",
    "evento = pl.LpProblem('Custo_evento', pl.LpMinimize)\n",
    "\n",
    "d_min_local = 7000  # min de custos com local - input usuário\n",
    "min_camp_evento = 1000  # min para campanha de eventos - input usuário\n",
    "\n",
    "d_min_pub = 1000 # min de custos com publicidade - input usuário\n",
    "d_max_pub = 2000 # max de custos com publicidade - input usuário\n",
    "\n",
    "d_agencia = pag_agencia\n",
    "\n",
    "d_min_inst = 1000  # min de custos com instrumentação - input usuário\n",
    "d_max_inst = 3000  # min de custos com instrumentação - input usuário\n",
    "\n",
    "d_min_buffet = 500     # despesa min com buffet - input usuário\n",
    "d_max_buffet = 2000     # despesa max com buffet - input usuário\n",
    "\n",
    "ingresso_evento = 700    # input usuário\n",
    "\n",
    "conv1 = 0.15    # conversão planilha -> evento - input usuário (slider 0 a 100%)\n",
    "cac_evento = 20     # input_usuário\n",
    "\n",
    "d_total_evento_max = 18000   # max de custos com toda operação do evento - input usuário\n",
    "\n",
    "inv_camp_evento = pl.LpVariable('inv_camp_evento', lowBound=min_camp_evento, cat='Continuous') # d5 -> alvo\n",
    "d_buffet = pl.LpVariable('buffet', lowBound=d_min_buffet, upBound=d_max_buffet, cat='Continuous') # d2\n",
    "d_pub_evento = pl.LpVariable('pub_evento', lowBound=d_min_pub, upBound=d_max_pub, cat='Continuous') # d3\n",
    "d_inst = pl.LpVariable('instrumentacao', lowBound=d_min_inst, upBound=d_max_inst, cat='Continuous') # d4\n",
    "d_local = pl.LpVariable('local', lowBound=d_min_local, cat='Continuous') # d1\n",
    "d_total_evento = pl.LpVariable('total_desp', lowBound=0, upBound=d_total_evento_max, cat='Continuous')\n",
    "#d_agencia = pl.LpVariable('agencia', lowBound=0, cat='Continuous') # d6\n",
    "\n",
    "evento += d_total_evento   # objetivo\n",
    "\n",
    "# Constraints\n",
    "comp2 = conv1 * comp1\n",
    "d_plataforma = tx_plataforma * ingresso_evento * comp2\n",
    "evento += inv_camp_evento + d_buffet + d_pub_evento + d_inst + d_local <= d_total_evento - d_agencia - d_plataforma, 'Budget_constraint'\n",
    "\n",
    "evento.solve()\n",
    "\n",
    "print('Status da solução: ', pl.LpStatus[evento.status])\n",
    "\n",
    "if pl.LpStatus[evento.status] == 'Optimal':\n",
    "    for variable in evento.variables():\n",
    "        print(\"{} = {}\".format(variable.name, variable.varValue))\n",
    "\n",
    "resultado_camp_evento = pl.value(inv_camp_evento) / cac_evento\n",
    "compradores_evento = comp2 + resultado_camp_evento\n",
    "receita_evento = compradores_evento*ingresso_evento\n",
    "\n",
    "lucro_evento = receita_evento - pl.value(d_total_evento)\n",
    "\n",
    "print('')\n",
    "#print('Total de despesas lançamento: ', round(desp_lancamento, 2))\n",
    "#print('Total despesas evento: ', round(total_desp_evento, 2))\n",
    "print('Compradores evento: ', compradores_evento)\n",
    "print('Compradores oriundos de campanha: ', resultado_camp_evento)\n",
    "print('Compradores oriundos da planilha: ', comp2)\n",
    "print(\"Total compras ingresso: \", round(receita_evento, 2))\n",
    "print(\"Lucro evento: \", round(lucro_evento, 2))\n"
   ]
  },
  {
   "cell_type": "code",
   "execution_count": null,
   "id": "3b80665b",
   "metadata": {},
   "outputs": [
    {
     "name": "stdout",
     "output_type": "stream",
     "text": [
      "Status da solução:  Optimal\n",
      "buffet = 500.0\n",
      "instrumentacao = 1000.0\n",
      "inv_camp_evento = 5496.975\n",
      "local = 7000.0\n",
      "pub_evento = 1000.0\n",
      "total_desp = 18000.0\n",
      "\n",
      "Compradores evento:  285.60625\n",
      "Compradores oriundos de campanha:  274.84875\n",
      "Compradores oriundos da planilha:  10.7575\n",
      "Total compras ingresso:  199924.38\n",
      "Lucro evento:  181924.38\n"
     ]
    }
   ],
   "source": [
    "# Maximize ads investment -> maximize conversion\n",
    "evento = pl.LpProblem('Custo_evento', pl.LpMaximize)\n",
    "\n",
    "d_min_local = 7000  # min de custos com local - input usuário\n",
    "min_camp_evento = 1000  # min para campanha de eventos - input usuário\n",
    "\n",
    "d_min_pub = 1000 # min de custos com publicidade - input usuário\n",
    "d_max_pub = 2000 # max de custos com publicidade - input usuário\n",
    "\n",
    "d_agencia = pag_agencia\n",
    "\n",
    "d_min_inst = 1000  # min de custos com instrumentação - input usuário\n",
    "d_max_inst = 3000  # min de custos com instrumentação - input usuário\n",
    "\n",
    "d_min_buffet = 500     # despesa min com buffet - input usuário\n",
    "d_max_buffet = 2000     # despesa max com buffet - input usuário\n",
    "\n",
    "ingresso_evento = 700    # input usuário\n",
    "\n",
    "conv1 = 0.5    # conversão planilha -> evento - input usuário\n",
    "cac_evento = 20     # input_usuário\n",
    "\n",
    "d_total_evento_max = 18000   # max de custos com toda operação do evento - input usuário\n",
    "\n",
    "inv_camp_evento = pl.LpVariable('inv_camp_evento', lowBound=min_camp_evento, cat='Continuous') # d5 -> alvo\n",
    "d_buffet = pl.LpVariable('buffet', lowBound=d_min_buffet, upBound=d_max_buffet, cat='Continuous') # d2\n",
    "d_pub_evento = pl.LpVariable('pub_evento', lowBound=d_min_pub, upBound=d_max_pub, cat='Continuous') # d3\n",
    "d_inst = pl.LpVariable('instrumentacao', lowBound=d_min_inst, upBound=d_max_inst, cat='Continuous') # d4\n",
    "d_local = pl.LpVariable('local', lowBound=d_min_local, cat='Continuous') # d1\n",
    "d_total_evento = pl.LpVariable('total_desp', lowBound=0, upBound=d_total_evento_max, cat='Continuous')\n",
    "#d_agencia = pl.LpVariable('agencia', lowBound=0, cat='Continuous') # d6\n",
    "\n",
    "evento += inv_camp_evento   # objetivo\n",
    "\n",
    "# Constraints\n",
    "comp2 = conv1 * comp1\n",
    "d_plataforma = tx_plataforma * ingresso_evento * comp2\n",
    "evento += inv_camp_evento + d_buffet + d_pub_evento + d_inst + d_local <= d_total_evento - d_agencia - d_plataforma, 'Budget_constraint'\n",
    "\n",
    "evento.solve()\n",
    "\n",
    "print('Status da solução: ', pl.LpStatus[evento.status])\n",
    "\n",
    "if pl.LpStatus[evento.status] == 'Optimal':\n",
    "    for variable in evento.variables():\n",
    "        print(\"{} = {}\".format(variable.name, variable.varValue))\n",
    "\n",
    "resultado_camp_evento = pl.value(inv_camp_evento) / cac_evento\n",
    "compradores_evento = comp2 + resultado_camp_evento\n",
    "receita_evento = compradores_evento*ingresso_evento\n",
    "\n",
    "lucro_evento = receita_evento - pl.value(d_total_evento)\n",
    "\n",
    "print('')\n",
    "#print('Total de despesas lançamento: ', round(desp_lancamento, 2))\n",
    "#print('Total despesas evento: ', round(total_desp_evento, 2))\n",
    "print('Compradores evento: ', compradores_evento)\n",
    "print('Compradores oriundos de campanha: ', resultado_camp_evento)\n",
    "print('Compradores oriundos da planilha: ', comp2)\n",
    "print(\"Total compras ingresso: \", round(receita_evento, 2))\n",
    "print(\"Lucro evento: \", round(lucro_evento, 2))\n"
   ]
  },
  {
   "cell_type": "markdown",
   "id": "49317530",
   "metadata": {},
   "source": [
    "### 3rd part: Follow-up"
   ]
  },
  {
   "cell_type": "code",
   "execution_count": null,
   "id": "11b5534b",
   "metadata": {},
   "outputs": [
    {
     "name": "stdout",
     "output_type": "stream",
     "text": [
      "Lucro acompanhamento:  48984.875\n"
     ]
    }
   ],
   "source": [
    "# Follow-up simulation\n",
    "\n",
    "conv2 = 0.1     # conversão evento -> acompanhamento, input usuário (slider)\n",
    "org = 10     # clientes do orgânico - input usuário\n",
    "base_planejador = 800   # input usuário\n",
    "d_comercial = 5000      # input usuário\n",
    "n_planejadores = 2      # input usuário\n",
    "valor_acompanhamento = 3000     # input usuário\n",
    "\n",
    "n_clientes = conv2 * compradores_evento + org\n",
    "\n",
    "receitas_acomp = n_clientes * valor_acompanhamento\n",
    "desp_acomp = (d_comercial + n_clientes * base_planejador * n_planejadores)\n",
    "lucro_acomp = receitas_acomp - desp_acomp\n",
    "print(\"Lucro acompanhamento: \", lucro_acomp)"
   ]
  }
 ],
 "metadata": {
  "kernelspec": {
   "display_name": "Python 3",
   "language": "python",
   "name": "python3"
  },
  "language_info": {
   "codemirror_mode": {
    "name": "ipython",
    "version": 3
   },
   "file_extension": ".py",
   "mimetype": "text/x-python",
   "name": "python",
   "nbconvert_exporter": "python",
   "pygments_lexer": "ipython3",
   "version": "3.10.0"
  }
 },
 "nbformat": 4,
 "nbformat_minor": 5
}
